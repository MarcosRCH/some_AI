{
 "cells": [
  {
   "cell_type": "code",
   "execution_count": 150,
   "metadata": {},
   "outputs": [
    {
     "name": "stdout",
     "output_type": "stream",
     "text": [
      "11\n"
     ]
    }
   ],
   "source": [
    "me = Classy()\n",
    "\n",
    "me.addItem(\"tophat\")\n",
    "me.getClassiness()\n",
    "\n",
    "me.addItem(\"bowtie\")\n",
    "me.addItem(\"jacket\")     \n",
    "me.addItem(\"monocle\")\n",
    "# Should be 11\n",
    "print(me.getClassiness())"
   ]
  },
  {
   "cell_type": "code",
   "execution_count": 5,
   "metadata": {},
   "outputs": [
    {
     "name": "stdout",
     "output_type": "stream",
     "text": [
      "I am super excited for this course! I am super excited for this course! I am super excited for this course! I am super excited for this course! I am super excited for this course!\n"
     ]
    }
   ],
   "source": [
    "# Write a function called \"show_excitement\" where the string\n",
    "# \"I am super excited for this course!\" is returned exactly\n",
    "# 5 times, where each sentence is separated by a single space.\n",
    "# Return the string with \"return\".\n",
    "# You can only have the string once in your code.\n",
    "# Don't just copy/paste it 5 times into a single variable!\n",
    "\n",
    "\n",
    "def show_excitement():\n",
    "    imprimir = \" \".join([\"I am super excited for this course!\"]*5)\n",
    "    return imprimir\n",
    "\n",
    "print(show_excitement())"
   ]
  },
  {
   "cell_type": "code",
   "execution_count": 10,
   "metadata": {},
   "outputs": [
    {
     "name": "stdout",
     "output_type": "stream",
     "text": [
      "I am super excited for this course! I am super excited for this course! I am super excited for this course! I am super excited for this course! I am super excited for this course!\n"
     ]
    }
   ],
   "source": [
    "def show_excitement():\n",
    "    print(\" \".join([\"I am super excited for this course!\"]*5))\n",
    "    return \"\"\n",
    "\n",
    "_func = show_excitement()"
   ]
  }
 ],
 "metadata": {
  "kernelspec": {
   "display_name": "Python 3.9.7 ('base')",
   "language": "python",
   "name": "python3"
  },
  "language_info": {
   "codemirror_mode": {
    "name": "ipython",
    "version": 3
   },
   "file_extension": ".py",
   "mimetype": "text/x-python",
   "name": "python",
   "nbconvert_exporter": "python",
   "pygments_lexer": "ipython3",
   "version": "3.9.7"
  },
  "orig_nbformat": 4,
  "vscode": {
   "interpreter": {
    "hash": "b9947b5ece49b779412d95313572687d77c65fc26bd0552c0ace8a648ac3884e"
   }
  }
 },
 "nbformat": 4,
 "nbformat_minor": 2
}
