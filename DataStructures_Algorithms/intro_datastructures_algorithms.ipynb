{
 "cells": [
  {
   "cell_type": "code",
   "execution_count": null,
   "metadata": {},
   "outputs": [],
   "source": [
    "\"\"\"You can use this class to represent how classy someone\n",
    "or something is.\n",
    "\"Classy\" is interchangable with \"fancy\".\n",
    "If you add fancy-looking items, you will increase\n",
    "your \"classiness\".\n",
    "Create a function in \"Classy\" that takes a string as\n",
    "input and adds it to the \"items\" list.\n",
    "Another method should calculate the \"classiness\"\n",
    "value based on the items.\n",
    "The following items have classiness points associated\n",
    "with them:\n",
    "\"tophat\" = 2\n",
    "\"bowtie\" = 4\n",
    "\"monocle\" = 5\n",
    "Everything else has 0 points.\n",
    "Use the test cases below to guide you!\"\"\"\n",
    "\n",
    "class Classy(object):\n",
    "    def __init__(self):\n",
    "        self.items = []\n",
    "        \n",
    "    def addItem(self, item):\n",
    "        self.items.append(item)\n",
    "        \n",
    "    def getClassiness(self):\n",
    "        self.to_sum = 0\n",
    "        _dicc_values = {\"tophat\": 2, \"bowtie\": 4, \"monocle\": 5}\n",
    "        for item in self.items:\n",
    "            \n",
    "            if item in _dicc_values:\n",
    "                self.to_sum += _dicc_values[item]\n",
    "                \n",
    "            elif item not in _dicc_values:\n",
    "                self.to_sum += 0\n",
    "\n",
    "        return self.to_sum"
   ]
  },
  {
   "cell_type": "code",
   "execution_count": null,
   "metadata": {},
   "outputs": [],
   "source": [
    "# Write a function called \"show_excitement\" where the string\n",
    "# \"I am super excited for this course!\" is returned exactly\n",
    "# 5 times, where each sentence is separated by a single space.\n",
    "# Return the string with \"return\".\n",
    "# You can only have the string once in your code.\n",
    "# Don't just copy/paste it 5 times into a single variable!\n",
    "\n",
    "\n",
    "def show_excitement():\n",
    "    imprimir = \" \".join([\"I am super excited for this course!\"]*5)\n",
    "    return imprimir\n",
    "\n",
    "print(show_excitement())"
   ]
  },
  {
   "cell_type": "code",
   "execution_count": null,
   "metadata": {},
   "outputs": [],
   "source": [
    "\"\"\"input manatees: a list of \"manatees\", where one manatee is represented by a dictionary\n",
    "a single manatee has properties like \"name\", \"age\", et cetera\n",
    "n = the number of elements in \"manatees\"\n",
    "m = the number of properties per \"manatee\" (i.e. the number of keys in a manatee dictionary)\"\"\"\n",
    "\n",
    "def example1(manatees):\n",
    "    for manatee in manatees:\n",
    "        print manatee['name']\n",
    "\n",
    "def example2(manatees):\n",
    "    print manatees[0]['name']\n",
    "    print manatees[0]['age']\n",
    "\n",
    "def example3(manatees):\n",
    "    for manatee in manatees:\n",
    "        for manatee_property in manatee:\n",
    "            print manatee_property, \": \", manatee[manatee_property]\n",
    "\n",
    "def example4(manatees):\n",
    "    oldest_manatee = \"No manatees here!\"\n",
    "    for manatee1 in manatees:\n",
    "        for manatee2 in manatees:\n",
    "            if manatee1['age'] < manatee2['age']:\n",
    "                oldest_manatee = manatee2['name']\n",
    "            else:\n",
    "                oldest_manatee = manatee1['name']\n",
    "    print oldest_manatee"
   ]
  }
 ],
 "metadata": {
  "kernelspec": {
   "display_name": "Python 3.9.7 ('base')",
   "language": "python",
   "name": "python3"
  },
  "language_info": {
   "name": "python",
   "version": "3.9.7"
  },
  "orig_nbformat": 4,
  "vscode": {
   "interpreter": {
    "hash": "b9947b5ece49b779412d95313572687d77c65fc26bd0552c0ace8a648ac3884e"
   }
  }
 },
 "nbformat": 4,
 "nbformat_minor": 2
}
